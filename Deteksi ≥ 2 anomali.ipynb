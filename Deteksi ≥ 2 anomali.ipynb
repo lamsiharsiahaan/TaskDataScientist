{
 "cells": [
  {
   "cell_type": "markdown",
   "id": "c8b0d73f",
   "metadata": {},
   "source": [
    "## 2.A Deteksi ≥ 2 anomali"
   ]
  },
  {
   "cell_type": "code",
   "execution_count": 2,
   "id": "f50e9840",
   "metadata": {},
   "outputs": [],
   "source": [
    "# Import Library\n",
    "import pandas as pd\n",
    "import matplotlib.pyplot as plt\n",
    "import seaborn as sns"
   ]
  },
  {
   "cell_type": "code",
   "execution_count": 3,
   "id": "847e2db8",
   "metadata": {},
   "outputs": [],
   "source": [
    "# Load data\n",
    "df = pd.read_csv(\"C:/Users/User/Downloads/Datascientist/data/e_commerce_transactions.csv\")"
   ]
  },
  {
   "cell_type": "code",
   "execution_count": 4,
   "id": "57a00fad",
   "metadata": {},
   "outputs": [
    {
     "data": {
      "application/vnd.microsoft.datawrangler.viewer.v0+json": {
       "columns": [
        {
         "name": "index",
         "rawType": "int64",
         "type": "integer"
        },
        {
         "name": "order_id",
         "rawType": "int64",
         "type": "integer"
        },
        {
         "name": "customer_id",
         "rawType": "int64",
         "type": "integer"
        },
        {
         "name": "order_date",
         "rawType": "object",
         "type": "string"
        },
        {
         "name": "payment_value",
         "rawType": "float64",
         "type": "float"
        },
        {
         "name": "decoy_flag",
         "rawType": "object",
         "type": "string"
        },
        {
         "name": "decoy_noise",
         "rawType": "float64",
         "type": "float"
        }
       ],
       "ref": "dfc7bee1-4be4-4025-a95e-d77c39e9947c",
       "rows": [
        [
         "0",
         "101000",
         "684",
         "2024-01-29",
         "38.93",
         "A",
         "39.51"
        ],
        [
         "1",
         "101001",
         "207",
         "2024-06-29",
         "59.52",
         "B",
         "38.97"
        ],
        [
         "2",
         "101002",
         "288",
         "2024-03-20",
         "355.52",
         "B",
         "338.14"
        ],
        [
         "3",
         "101003",
         "571",
         "2024-02-24",
         "157.65",
         "C",
         "121.69"
        ],
        [
         "4",
         "101004",
         "871",
         "2024-01-11",
         "287.68",
         "C",
         "254.92"
        ],
        [
         "5",
         "101005",
         "236",
         "2024-01-11",
         "289.59",
         "B",
         "295.11"
        ],
        [
         "6",
         "101006",
         "593",
         "2024-01-04",
         "140.76",
         "C",
         "193.62"
        ],
        [
         "7",
         "101007",
         "429",
         "2024-04-30",
         "246.92",
         "C",
         "311.82"
        ],
        [
         "8",
         "101008",
         "951",
         "2024-02-25",
         "133.67",
         "C",
         "143.8"
        ],
        [
         "9",
         "101009",
         "989",
         "2024-03-14",
         "114.33",
         "C",
         "117.16"
        ],
        [
         "10",
         "101010",
         "689",
         "2024-01-02",
         "92.59",
         "C",
         "73.65"
        ],
        [
         "11",
         "101011",
         "829",
         "2024-07-29",
         "234.63",
         "C",
         "204.94"
        ],
        [
         "12",
         "101012",
         "552",
         "2024-04-17",
         "399.58",
         "C",
         "389.49"
        ],
        [
         "13",
         "101013",
         "82",
         "2024-01-15",
         "368.18",
         "C",
         "311.97"
        ],
        [
         "14",
         "101014",
         "162",
         "2024-01-13",
         "51.38",
         "B",
         "52.28"
        ],
        [
         "15",
         "101015",
         "113",
         "2024-01-13",
         "394.65",
         "C",
         "369.9"
        ],
        [
         "16",
         "101016",
         "601",
         "2024-01-22",
         "74.91",
         "B",
         "100.78"
        ],
        [
         "17",
         "101017",
         "524",
         "2024-02-14",
         "185.68",
         "C",
         "200.88"
        ],
        [
         "18",
         "101018",
         "493",
         "2024-02-03",
         "210.54",
         "C",
         "194.1"
        ],
        [
         "19",
         "101019",
         "399",
         "2024-01-21",
         "39.09",
         "B",
         "31.55"
        ],
        [
         "20",
         "101020",
         "875",
         "2024-02-26",
         "145.12",
         "B",
         "113.32"
        ],
        [
         "21",
         "101021",
         "472",
         "2024-01-10",
         "411.15",
         "C",
         "404.8"
        ],
        [
         "22",
         "101022",
         "265",
         "2024-01-21",
         "12.99",
         "D",
         "-5.79"
        ],
        [
         "23",
         "101023",
         "744",
         "2024-01-28",
         "714.54",
         "A",
         "688.41"
        ],
        [
         "24",
         "101024",
         "916",
         "2024-02-06",
         "19.71",
         "D",
         "-7.5"
        ],
        [
         "25",
         "101025",
         "89",
         "2024-04-02",
         "206.68",
         "C",
         "191.6"
        ],
        [
         "26",
         "101026",
         "367",
         "2024-01-14",
         "41.12",
         "C",
         "59.55"
        ],
        [
         "27",
         "101027",
         "216",
         "2024-02-13",
         "230.95",
         "A",
         "224.14"
        ],
        [
         "28",
         "101028",
         "561",
         "2024-02-23",
         "357.31",
         "C",
         "372.38"
        ],
        [
         "29",
         "101029",
         "986",
         "2024-01-03",
         "293.8",
         "C",
         "286.67"
        ],
        [
         "30",
         "101030",
         "270",
         "2024-02-26",
         "327.47",
         "C",
         "254.52"
        ],
        [
         "31",
         "101031",
         "901",
         "2024-01-12",
         "134.14",
         "C",
         "84.09"
        ],
        [
         "32",
         "101032",
         "894",
         "2024-01-05",
         "409.24",
         "C",
         "419.09"
        ],
        [
         "33",
         "101033",
         "816",
         "2024-06-27",
         "611.16",
         "B",
         "727.26"
        ],
        [
         "34",
         "101034",
         "825",
         "2024-07-21",
         "178.74",
         "A",
         "145.43"
        ],
        [
         "35",
         "101035",
         "861",
         "2024-04-09",
         "122.22",
         "C",
         "120.2"
        ],
        [
         "36",
         "101036",
         "572",
         "2024-01-22",
         "84.88",
         "B",
         "132.62"
        ],
        [
         "37",
         "101037",
         "456",
         "2024-01-07",
         "280.75",
         "B",
         "231.26"
        ],
        [
         "38",
         "101038",
         "337",
         "2024-03-10",
         "338.19",
         "C",
         "393.86"
        ],
        [
         "39",
         "101039",
         "758",
         "2024-02-04",
         "122.26",
         "C",
         "142.26"
        ],
        [
         "40",
         "101040",
         "299",
         "2024-01-08",
         "469.64",
         "D",
         "462.9"
        ],
        [
         "41",
         "101041",
         "214",
         "2024-02-11",
         "264.52",
         "B",
         "278.37"
        ],
        [
         "42",
         "101042",
         "594",
         "2024-01-03",
         "177.2",
         "C",
         "219.95"
        ],
        [
         "43",
         "101043",
         "859",
         "2024-05-24",
         "211.63",
         "C",
         "209.5"
        ],
        [
         "44",
         "101044",
         "64",
         "2024-01-18",
         "68.9",
         "C",
         "35.18"
        ],
        [
         "45",
         "101045",
         "770",
         "2024-03-06",
         "278.52",
         "C",
         "234.11"
        ],
        [
         "46",
         "101046",
         "769",
         "2024-01-23",
         "73.21",
         "B",
         "58.66"
        ],
        [
         "47",
         "101047",
         "630",
         "2024-02-14",
         "109.69",
         "C",
         "109.16"
        ],
        [
         "48",
         "101048",
         "832",
         "2024-02-17",
         "157.44",
         "D",
         "138.45"
        ],
        [
         "49",
         "101049",
         "489",
         "2024-01-13",
         "548.9",
         "C",
         "624.02"
        ]
       ],
       "shape": {
        "columns": 6,
        "rows": 10000
       }
      },
      "text/html": [
       "<div>\n",
       "<style scoped>\n",
       "    .dataframe tbody tr th:only-of-type {\n",
       "        vertical-align: middle;\n",
       "    }\n",
       "\n",
       "    .dataframe tbody tr th {\n",
       "        vertical-align: top;\n",
       "    }\n",
       "\n",
       "    .dataframe thead th {\n",
       "        text-align: right;\n",
       "    }\n",
       "</style>\n",
       "<table border=\"1\" class=\"dataframe\">\n",
       "  <thead>\n",
       "    <tr style=\"text-align: right;\">\n",
       "      <th></th>\n",
       "      <th>order_id</th>\n",
       "      <th>customer_id</th>\n",
       "      <th>order_date</th>\n",
       "      <th>payment_value</th>\n",
       "      <th>decoy_flag</th>\n",
       "      <th>decoy_noise</th>\n",
       "    </tr>\n",
       "  </thead>\n",
       "  <tbody>\n",
       "    <tr>\n",
       "      <th>0</th>\n",
       "      <td>101000</td>\n",
       "      <td>684</td>\n",
       "      <td>2024-01-29</td>\n",
       "      <td>38.93</td>\n",
       "      <td>A</td>\n",
       "      <td>39.51</td>\n",
       "    </tr>\n",
       "    <tr>\n",
       "      <th>1</th>\n",
       "      <td>101001</td>\n",
       "      <td>207</td>\n",
       "      <td>2024-06-29</td>\n",
       "      <td>59.52</td>\n",
       "      <td>B</td>\n",
       "      <td>38.97</td>\n",
       "    </tr>\n",
       "    <tr>\n",
       "      <th>2</th>\n",
       "      <td>101002</td>\n",
       "      <td>288</td>\n",
       "      <td>2024-03-20</td>\n",
       "      <td>355.52</td>\n",
       "      <td>B</td>\n",
       "      <td>338.14</td>\n",
       "    </tr>\n",
       "    <tr>\n",
       "      <th>3</th>\n",
       "      <td>101003</td>\n",
       "      <td>571</td>\n",
       "      <td>2024-02-24</td>\n",
       "      <td>157.65</td>\n",
       "      <td>C</td>\n",
       "      <td>121.69</td>\n",
       "    </tr>\n",
       "    <tr>\n",
       "      <th>4</th>\n",
       "      <td>101004</td>\n",
       "      <td>871</td>\n",
       "      <td>2024-01-11</td>\n",
       "      <td>287.68</td>\n",
       "      <td>C</td>\n",
       "      <td>254.92</td>\n",
       "    </tr>\n",
       "    <tr>\n",
       "      <th>...</th>\n",
       "      <td>...</td>\n",
       "      <td>...</td>\n",
       "      <td>...</td>\n",
       "      <td>...</td>\n",
       "      <td>...</td>\n",
       "      <td>...</td>\n",
       "    </tr>\n",
       "    <tr>\n",
       "      <th>9995</th>\n",
       "      <td>110995</td>\n",
       "      <td>271</td>\n",
       "      <td>2024-04-26</td>\n",
       "      <td>51.02</td>\n",
       "      <td>C</td>\n",
       "      <td>38.61</td>\n",
       "    </tr>\n",
       "    <tr>\n",
       "      <th>9996</th>\n",
       "      <td>110996</td>\n",
       "      <td>69</td>\n",
       "      <td>2024-05-16</td>\n",
       "      <td>186.42</td>\n",
       "      <td>A</td>\n",
       "      <td>154.21</td>\n",
       "    </tr>\n",
       "    <tr>\n",
       "      <th>9997</th>\n",
       "      <td>110997</td>\n",
       "      <td>974</td>\n",
       "      <td>2024-06-24</td>\n",
       "      <td>62.18</td>\n",
       "      <td>A</td>\n",
       "      <td>71.53</td>\n",
       "    </tr>\n",
       "    <tr>\n",
       "      <th>9998</th>\n",
       "      <td>110998</td>\n",
       "      <td>457</td>\n",
       "      <td>2024-01-31</td>\n",
       "      <td>74.09</td>\n",
       "      <td>B</td>\n",
       "      <td>58.13</td>\n",
       "    </tr>\n",
       "    <tr>\n",
       "      <th>9999</th>\n",
       "      <td>110999</td>\n",
       "      <td>346</td>\n",
       "      <td>2024-01-15</td>\n",
       "      <td>188.09</td>\n",
       "      <td>B</td>\n",
       "      <td>203.44</td>\n",
       "    </tr>\n",
       "  </tbody>\n",
       "</table>\n",
       "<p>10000 rows × 6 columns</p>\n",
       "</div>"
      ],
      "text/plain": [
       "      order_id  customer_id  order_date  payment_value decoy_flag  decoy_noise\n",
       "0       101000          684  2024-01-29          38.93          A        39.51\n",
       "1       101001          207  2024-06-29          59.52          B        38.97\n",
       "2       101002          288  2024-03-20         355.52          B       338.14\n",
       "3       101003          571  2024-02-24         157.65          C       121.69\n",
       "4       101004          871  2024-01-11         287.68          C       254.92\n",
       "...        ...          ...         ...            ...        ...          ...\n",
       "9995    110995          271  2024-04-26          51.02          C        38.61\n",
       "9996    110996           69  2024-05-16         186.42          A       154.21\n",
       "9997    110997          974  2024-06-24          62.18          A        71.53\n",
       "9998    110998          457  2024-01-31          74.09          B        58.13\n",
       "9999    110999          346  2024-01-15         188.09          B       203.44\n",
       "\n",
       "[10000 rows x 6 columns]"
      ]
     },
     "execution_count": 4,
     "metadata": {},
     "output_type": "execute_result"
    }
   ],
   "source": [
    "df"
   ]
  },
  {
   "cell_type": "code",
   "execution_count": 5,
   "id": "24261c8a",
   "metadata": {},
   "outputs": [],
   "source": [
    "# Tambahkan kolom selisih absolut antara payment_value dan decoy_noise\n",
    "df['noise_gap'] = (df['payment_value'] - df['decoy_noise']).abs()"
   ]
  },
  {
   "cell_type": "code",
   "execution_count": 9,
   "id": "51b13481",
   "metadata": {},
   "outputs": [
    {
     "data": {
      "application/vnd.microsoft.datawrangler.viewer.v0+json": {
       "columns": [
        {
         "name": "index",
         "rawType": "int64",
         "type": "integer"
        },
        {
         "name": "noise_gap",
         "rawType": "float64",
         "type": "float"
        }
       ],
       "ref": "487516ab-3ca9-4883-850f-832a8b9edda7",
       "rows": [
        [
         "0",
         "0.5799999999999983"
        ],
        [
         "1",
         "20.550000000000004"
        ],
        [
         "2",
         "17.379999999999995"
        ],
        [
         "3",
         "35.96000000000001"
        ],
        [
         "4",
         "32.76000000000002"
        ],
        [
         "5",
         "5.520000000000039"
        ],
        [
         "6",
         "52.860000000000014"
        ],
        [
         "7",
         "64.9"
        ],
        [
         "8",
         "10.130000000000024"
        ],
        [
         "9",
         "2.8299999999999983"
        ],
        [
         "10",
         "18.939999999999998"
        ],
        [
         "11",
         "29.689999999999998"
        ],
        [
         "12",
         "10.089999999999975"
        ],
        [
         "13",
         "56.20999999999998"
        ],
        [
         "14",
         "0.8999999999999986"
        ],
        [
         "15",
         "24.75"
        ],
        [
         "16",
         "25.870000000000005"
        ],
        [
         "17",
         "15.199999999999989"
        ],
        [
         "18",
         "16.439999999999998"
        ],
        [
         "19",
         "7.540000000000003"
        ],
        [
         "20",
         "31.80000000000001"
        ],
        [
         "21",
         "6.349999999999966"
        ],
        [
         "22",
         "18.78"
        ],
        [
         "23",
         "26.129999999999995"
        ],
        [
         "24",
         "27.21"
        ],
        [
         "25",
         "15.080000000000013"
        ],
        [
         "26",
         "18.43"
        ],
        [
         "27",
         "6.810000000000002"
        ],
        [
         "28",
         "15.069999999999993"
        ],
        [
         "29",
         "7.1299999999999955"
        ],
        [
         "30",
         "72.95000000000002"
        ],
        [
         "31",
         "50.04999999999998"
        ],
        [
         "32",
         "9.849999999999966"
        ],
        [
         "33",
         "116.10000000000002"
        ],
        [
         "34",
         "33.31"
        ],
        [
         "35",
         "2.019999999999996"
        ],
        [
         "36",
         "47.74000000000001"
        ],
        [
         "37",
         "49.49000000000001"
        ],
        [
         "38",
         "55.670000000000016"
        ],
        [
         "39",
         "19.999999999999986"
        ],
        [
         "40",
         "6.740000000000009"
        ],
        [
         "41",
         "13.850000000000023"
        ],
        [
         "42",
         "42.75"
        ],
        [
         "43",
         "2.1299999999999955"
        ],
        [
         "44",
         "33.720000000000006"
        ],
        [
         "45",
         "44.40999999999997"
        ],
        [
         "46",
         "14.549999999999997"
        ],
        [
         "47",
         "0.5300000000000011"
        ],
        [
         "48",
         "18.99000000000001"
        ],
        [
         "49",
         "75.12"
        ]
       ],
       "shape": {
        "columns": 1,
        "rows": 10000
       }
      },
      "text/plain": [
       "0        0.58\n",
       "1       20.55\n",
       "2       17.38\n",
       "3       35.96\n",
       "4       32.76\n",
       "        ...  \n",
       "9995    12.41\n",
       "9996    32.21\n",
       "9997     9.35\n",
       "9998    15.96\n",
       "9999    15.35\n",
       "Name: noise_gap, Length: 10000, dtype: float64"
      ]
     },
     "execution_count": 9,
     "metadata": {},
     "output_type": "execute_result"
    }
   ],
   "source": [
    "df['noise_gap']"
   ]
  },
  {
   "cell_type": "code",
   "execution_count": 7,
   "id": "4f47dc7c",
   "metadata": {},
   "outputs": [
    {
     "name": "stdout",
     "output_type": "stream",
     "text": [
      "\n",
      "Distribusi decoy_flag:\n",
      " decoy_flag\n",
      "C    4936\n",
      "B    2519\n",
      "A    1486\n",
      "D    1059\n",
      "Name: count, dtype: int64\n"
     ]
    }
   ],
   "source": [
    "# Distribusi nilai decoy_flag\n",
    "print(\"\\nDistribusi decoy_flag:\\n\", df['decoy_flag'].value_counts())"
   ]
  },
  {
   "cell_type": "code",
   "execution_count": 8,
   "id": "45ffb00e",
   "metadata": {},
   "outputs": [
    {
     "name": "stdout",
     "output_type": "stream",
     "text": [
      "\n",
      "Rata-rata decoy_noise per decoy_flag:\n",
      " decoy_flag\n",
      "C    202.779891\n",
      "B    201.592517\n",
      "D    198.250066\n",
      "A    196.769502\n",
      "Name: decoy_noise, dtype: float64\n"
     ]
    }
   ],
   "source": [
    "# Rata-rata decoy_noise berdasarkan decoy_flag\n",
    "avg_noise = df.groupby('decoy_flag')['decoy_noise'].mean().sort_values(ascending=False)\n",
    "print(\"\\nRata-rata decoy_noise per decoy_flag:\\n\", avg_noise)"
   ]
  },
  {
   "cell_type": "code",
   "execution_count": 15,
   "id": "a02db175",
   "metadata": {},
   "outputs": [
    {
     "name": "stdout",
     "output_type": "stream",
     "text": [
      "\n",
      "Noise_gap > 3000:\n",
      " Empty DataFrame\n",
      "Columns: [customer_id, payment_value, decoy_noise, noise_gap, decoy_flag]\n",
      "Index: []\n"
     ]
    }
   ],
   "source": [
    "# Temukan anomali besar: noise_gap > 3000\n",
    "anomalies = df[df['noise_gap'] > 3000]\n",
    "print(\"\\nNoise_gap > 3000:\\n\", anomalies[['customer_id', 'payment_value', 'decoy_noise', 'noise_gap', 'decoy_flag']].head())"
   ]
  },
  {
   "cell_type": "code",
   "execution_count": 11,
   "id": "6660667d",
   "metadata": {},
   "outputs": [
    {
     "data": {
      "image/png": "[encoded data removed]",
      "text/plain": [
       "<Figure size 1000x500 with 1 Axes>"
      ]
     },
     "metadata": {},
     "output_type": "display_data"
    }
   ],
   "source": [
    "# Visualisasi distribusi noise_gap\n",
    "plt.figure(figsize=(10, 5))\n",
    "sns.histplot(df['noise_gap'], bins=50, kde=True)\n",
    "plt.title('Distribusi Selisih |payment_value - decoy_noise|')\n",
    "plt.xlabel('Noise Gap')\n",
    "plt.ylabel('Jumlah Transaksi')\n",
    "plt.show()"
   ]
  },
  {
   "cell_type": "code",
   "execution_count": 12,
   "id": "d9ff47ce",
   "metadata": {},
   "outputs": [
    {
     "data": {
      "image/png": "[encoded data removed]",
      "text/plain": [
       "<Figure size 800x500 with 1 Axes>"
      ]
     },
     "metadata": {},
     "output_type": "display_data"
    }
   ],
   "source": [
    "# Visualisasi boxplot decoy_noise per flag\n",
    "plt.figure(figsize=(8, 5))\n",
    "sns.boxplot(x='decoy_flag', y='decoy_noise', data=df)\n",
    "plt.title('Boxplot decoy_noise per decoy_flag')\n",
    "plt.xlabel('decoy_flag')\n",
    "plt.ylabel('decoy_noise')\n",
    "plt.show()"
   ]
  }
 ],
 "metadata": {
  "kernelspec": {
   "display_name": "Python 3",
   "language": "python",
   "name": "python3"
  },
  "language_info": {
   "codemirror_mode": {
    "name": "ipython",
    "version": 3
   },
   "file_extension": ".py",
   "mimetype": "text/x-python",
   "name": "python",
   "nbconvert_exporter": "python",
   "pygments_lexer": "ipython3",
   "version": "3.10.11"
  }
 },
 "nbformat": 4,
 "nbformat_minor": 5
}
